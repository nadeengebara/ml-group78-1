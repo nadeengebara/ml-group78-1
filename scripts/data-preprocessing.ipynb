{
 "cells": [
  {
   "cell_type": "code",
   "execution_count": 1,
   "metadata": {
    "collapsed": true
   },
   "outputs": [],
   "source": [
    "# Useful starting lines\n",
    "%matplotlib inline\n",
    "import numpy as np\n",
    "import matplotlib.pyplot as plt\n",
    "%load_ext autoreload\n",
    "%autoreload 2"
   ]
  },
  {
   "cell_type": "markdown",
   "metadata": {},
   "source": [
    "# Data preprocessing"
   ]
  },
  {
   "cell_type": "code",
   "execution_count": 2,
   "metadata": {
    "collapsed": true
   },
   "outputs": [],
   "source": [
    "from proj1_helpers import *\n",
    "DATA_TRAIN_PATH = '../train.csv'\n",
    "y, tX, ids = load_csv_data(DATA_TRAIN_PATH)"
   ]
  },
  {
   "cell_type": "code",
   "execution_count": 53,
   "metadata": {
    "collapsed": false
   },
   "outputs": [
    {
     "data": {
      "text/plain": [
       "array([ 0.,  0.,  1.,  0.,  1.])"
      ]
     },
     "execution_count": 53,
     "metadata": {},
     "output_type": "execute_result"
    }
   ],
   "source": [
    "def binarize_invalid_data(col, invalid_value=-999):\n",
    "    \"\"\"Transform features with -999 values into a binary categorisation\"\"\"\n",
    "    result = np.zeros((col.shape))\n",
    "    \n",
    "    invalid_value_indices = col == invalid_value\n",
    "    result[invalid_value_indices] = 0\n",
    "    result[~invalid_value_indices] = 1\n",
    "    return result\n",
    "\n",
    "def binarize_positive_negative(col):\n",
    "    \"\"\"Binary categorisation of negative and positive values\"\"\"\n",
    "    result = np.zeros((col.shape))\n",
    "    \n",
    "    positive_indices = col >= 0\n",
    "    result[positive_indices] = 1\n",
    "    result[~positive_indices] = 0\n",
    "    return result"
   ]
  },
  {
   "cell_type": "code",
   "execution_count": 54,
   "metadata": {
    "collapsed": false
   },
   "outputs": [],
   "source": [
    "(N, D) = tX.shape\n",
    "preprocessed_tX = []\n",
    "\n",
    "for d in range(D):\n",
    "    # binarize invalid values\n",
    "    col = tX[:,d]\n",
    "    \n",
    "    if d == 0 or d == 4 or d == 5 or d == 6 or d == 12 or d == 23 or d == 24 or d == 25 or d == 26 or d == 27 or d == 28:\n",
    "        col = binarize_invalid_data(col)\n",
    "        preprocessed_tX.append(col)\n",
    "        \n",
    "    elif d == 11:\n",
    "        col = binarize_positive_negative(col)\n",
    "        preprocessed_tX.append(col)\n",
    "        \n",
    "    else:\n",
    "        preprocessed_tX.append(col)\n",
    "         "
   ]
  },
  {
   "cell_type": "code",
   "execution_count": 46,
   "metadata": {
    "collapsed": false
   },
   "outputs": [
    {
     "data": {
      "text/plain": [
       "(2, 250000)"
      ]
     },
     "execution_count": 46,
     "metadata": {},
     "output_type": "execute_result"
    }
   ],
   "source": [
    "lst = []\n",
    "lst.append(tX[:,0])\n",
    "lst.append(tX[:,1])\n",
    "np.asarray(lst).shape"
   ]
  },
  {
   "cell_type": "code",
   "execution_count": null,
   "metadata": {
    "collapsed": true
   },
   "outputs": [],
   "source": []
  }
 ],
 "metadata": {
  "kernelspec": {
   "display_name": "Python 3",
   "language": "python",
   "name": "python3"
  },
  "language_info": {
   "codemirror_mode": {
    "name": "ipython",
    "version": 3
   },
   "file_extension": ".py",
   "mimetype": "text/x-python",
   "name": "python",
   "nbconvert_exporter": "python",
   "pygments_lexer": "ipython3",
   "version": "3.5.2"
  }
 },
 "nbformat": 4,
 "nbformat_minor": 1
}
